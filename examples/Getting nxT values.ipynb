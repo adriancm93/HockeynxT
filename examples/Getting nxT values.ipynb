{
 "cells": [
  {
   "cell_type": "code",
   "execution_count": 2,
   "id": "remarkable-dance",
   "metadata": {},
   "outputs": [],
   "source": [
    "#Load modules\n",
    "import pandas as pd\n",
    "import sys\n",
    "module_path = '../HockeynxT/'\n",
    "if module_path not in sys.path:\n",
    "    sys.path.append(module_path)\n",
    "import nxTHockey as nxT\n",
    "import seaborn as sns\n",
    "data=pd.read_csv('data.csv')\n",
    "data=data[data['league'] == 'scouting']"
   ]
  },
  {
   "cell_type": "code",
   "execution_count": 5,
   "id": "common-cinema",
   "metadata": {},
   "outputs": [
    {
     "name": "stdout",
     "output_type": "stream",
     "text": [
      "Time remaining in period, bin:  1\n",
      "# iterations:  17\n",
      "Time remaining in period, bin:  2\n",
      "# iterations:  17\n",
      "Time remaining in period, bin:  3\n",
      "# iterations:  17\n",
      "Time remaining in period, bin:  4\n",
      "# iterations:  17\n"
     ]
    },
    {
     "data": {
      "text/html": [
       "<div>\n",
       "<style scoped>\n",
       "    .dataframe tbody tr th:only-of-type {\n",
       "        vertical-align: middle;\n",
       "    }\n",
       "\n",
       "    .dataframe tbody tr th {\n",
       "        vertical-align: top;\n",
       "    }\n",
       "\n",
       "    .dataframe thead th {\n",
       "        text-align: right;\n",
       "    }\n",
       "</style>\n",
       "<table border=\"1\" class=\"dataframe\">\n",
       "  <thead>\n",
       "    <tr style=\"text-align: right;\">\n",
       "      <th></th>\n",
       "      <th>game_date</th>\n",
       "      <th>Home.Team</th>\n",
       "      <th>Away.Team</th>\n",
       "      <th>Period</th>\n",
       "      <th>Clock</th>\n",
       "      <th>Home.Team.Skaters</th>\n",
       "      <th>Away.Team.Skaters</th>\n",
       "      <th>Home.Team.Goals</th>\n",
       "      <th>Away.Team.Goals</th>\n",
       "      <th>Team</th>\n",
       "      <th>...</th>\n",
       "      <th>end_y</th>\n",
       "      <th>turnover</th>\n",
       "      <th>game_time_remaining</th>\n",
       "      <th>time</th>\n",
       "      <th>goal</th>\n",
       "      <th>x_start_cell</th>\n",
       "      <th>y_start_cell</th>\n",
       "      <th>nxT</th>\n",
       "      <th>oxT</th>\n",
       "      <th>xT</th>\n",
       "    </tr>\n",
       "  </thead>\n",
       "  <tbody>\n",
       "    <tr>\n",
       "      <th>50884</th>\n",
       "      <td>2019-09-20</td>\n",
       "      <td>Erie Otters</td>\n",
       "      <td>Sudbury Wolves</td>\n",
       "      <td>1</td>\n",
       "      <td>20:00</td>\n",
       "      <td>5</td>\n",
       "      <td>5</td>\n",
       "      <td>0</td>\n",
       "      <td>0</td>\n",
       "      <td>Sudbury Wolves</td>\n",
       "      <td>...</td>\n",
       "      <td>77.0</td>\n",
       "      <td>0</td>\n",
       "      <td>4800</td>\n",
       "      <td>1</td>\n",
       "      <td>0</td>\n",
       "      <td>8</td>\n",
       "      <td>4</td>\n",
       "      <td>0.005904</td>\n",
       "      <td>0.000934</td>\n",
       "      <td>0.006838</td>\n",
       "    </tr>\n",
       "    <tr>\n",
       "      <th>50885</th>\n",
       "      <td>2019-09-20</td>\n",
       "      <td>Erie Otters</td>\n",
       "      <td>Sudbury Wolves</td>\n",
       "      <td>1</td>\n",
       "      <td>19:58</td>\n",
       "      <td>5</td>\n",
       "      <td>5</td>\n",
       "      <td>0</td>\n",
       "      <td>0</td>\n",
       "      <td>Sudbury Wolves</td>\n",
       "      <td>...</td>\n",
       "      <td>49.0</td>\n",
       "      <td>0</td>\n",
       "      <td>4798</td>\n",
       "      <td>1</td>\n",
       "      <td>0</td>\n",
       "      <td>5</td>\n",
       "      <td>7</td>\n",
       "      <td>0.000894</td>\n",
       "      <td>0.002635</td>\n",
       "      <td>0.003529</td>\n",
       "    </tr>\n",
       "    <tr>\n",
       "      <th>50886</th>\n",
       "      <td>2019-09-20</td>\n",
       "      <td>Erie Otters</td>\n",
       "      <td>Sudbury Wolves</td>\n",
       "      <td>1</td>\n",
       "      <td>19:53</td>\n",
       "      <td>5</td>\n",
       "      <td>5</td>\n",
       "      <td>0</td>\n",
       "      <td>0</td>\n",
       "      <td>Sudbury Wolves</td>\n",
       "      <td>...</td>\n",
       "      <td>49.0</td>\n",
       "      <td>1</td>\n",
       "      <td>4793</td>\n",
       "      <td>1</td>\n",
       "      <td>0</td>\n",
       "      <td>3</td>\n",
       "      <td>4</td>\n",
       "      <td>0.000468</td>\n",
       "      <td>0.002410</td>\n",
       "      <td>0.002878</td>\n",
       "    </tr>\n",
       "    <tr>\n",
       "      <th>50887</th>\n",
       "      <td>2019-09-20</td>\n",
       "      <td>Erie Otters</td>\n",
       "      <td>Sudbury Wolves</td>\n",
       "      <td>1</td>\n",
       "      <td>19:52</td>\n",
       "      <td>5</td>\n",
       "      <td>5</td>\n",
       "      <td>0</td>\n",
       "      <td>0</td>\n",
       "      <td>Erie Otters</td>\n",
       "      <td>...</td>\n",
       "      <td>49.0</td>\n",
       "      <td>0</td>\n",
       "      <td>4792</td>\n",
       "      <td>1</td>\n",
       "      <td>0</td>\n",
       "      <td>7</td>\n",
       "      <td>3</td>\n",
       "      <td>0.003553</td>\n",
       "      <td>0.001011</td>\n",
       "      <td>0.004564</td>\n",
       "    </tr>\n",
       "    <tr>\n",
       "      <th>50888</th>\n",
       "      <td>2019-09-20</td>\n",
       "      <td>Erie Otters</td>\n",
       "      <td>Sudbury Wolves</td>\n",
       "      <td>1</td>\n",
       "      <td>19:51</td>\n",
       "      <td>5</td>\n",
       "      <td>5</td>\n",
       "      <td>0</td>\n",
       "      <td>0</td>\n",
       "      <td>Erie Otters</td>\n",
       "      <td>...</td>\n",
       "      <td>10.0</td>\n",
       "      <td>1</td>\n",
       "      <td>4791</td>\n",
       "      <td>1</td>\n",
       "      <td>0</td>\n",
       "      <td>6</td>\n",
       "      <td>4</td>\n",
       "      <td>0.002849</td>\n",
       "      <td>0.001363</td>\n",
       "      <td>0.004212</td>\n",
       "    </tr>\n",
       "  </tbody>\n",
       "</table>\n",
       "<p>5 rows × 37 columns</p>\n",
       "</div>"
      ],
      "text/plain": [
       "        game_date    Home.Team       Away.Team  Period  Clock  \\\n",
       "50884  2019-09-20  Erie Otters  Sudbury Wolves       1  20:00   \n",
       "50885  2019-09-20  Erie Otters  Sudbury Wolves       1  19:58   \n",
       "50886  2019-09-20  Erie Otters  Sudbury Wolves       1  19:53   \n",
       "50887  2019-09-20  Erie Otters  Sudbury Wolves       1  19:52   \n",
       "50888  2019-09-20  Erie Otters  Sudbury Wolves       1  19:51   \n",
       "\n",
       "       Home.Team.Skaters  Away.Team.Skaters  Home.Team.Goals  Away.Team.Goals  \\\n",
       "50884                  5                  5                0                0   \n",
       "50885                  5                  5                0                0   \n",
       "50886                  5                  5                0                0   \n",
       "50887                  5                  5                0                0   \n",
       "50888                  5                  5                0                0   \n",
       "\n",
       "                 Team  ... end_y turnover  game_time_remaining  time goal  \\\n",
       "50884  Sudbury Wolves  ...  77.0        0                 4800     1    0   \n",
       "50885  Sudbury Wolves  ...  49.0        0                 4798     1    0   \n",
       "50886  Sudbury Wolves  ...  49.0        1                 4793     1    0   \n",
       "50887     Erie Otters  ...  49.0        0                 4792     1    0   \n",
       "50888     Erie Otters  ...  10.0        1                 4791     1    0   \n",
       "\n",
       "      x_start_cell y_start_cell       nxT       oxT        xT  \n",
       "50884            8            4  0.005904  0.000934  0.006838  \n",
       "50885            5            7  0.000894  0.002635  0.003529  \n",
       "50886            3            4  0.000468  0.002410  0.002878  \n",
       "50887            7            3  0.003553  0.001011  0.004564  \n",
       "50888            6            4  0.002849  0.001363  0.004212  \n",
       "\n",
       "[5 rows x 37 columns]"
      ]
     },
     "execution_count": 5,
     "metadata": {},
     "output_type": "execute_result"
    }
   ],
   "source": [
    "#this might take a minute\n",
    "#do: verbose = True to see all events\n",
    "results=nxT.return_nxT_values(data,verbose=False) \n",
    "results_ = pd.concat([data,results],axis=1)\n",
    "results_.head(5)"
   ]
  },
  {
   "cell_type": "code",
   "execution_count": 6,
   "id": "popular-logging",
   "metadata": {},
   "outputs": [
    {
     "name": "stdout",
     "output_type": "stream",
     "text": [
      "Time remaining in period, bin:  1\n",
      "# iterations:  17\n",
      "Transforming Matrix - Iteration  1 of  128\n",
      "Transforming Matrix - Iteration  2 of  128\n",
      "Transforming Matrix - Iteration  3 of  128\n",
      "Transforming Matrix - Iteration  4 of  128\n",
      "Transforming Matrix - Iteration  5 of  128\n",
      "Transforming Matrix - Iteration  6 of  128\n",
      "Transforming Matrix - Iteration  7 of  128\n",
      "Transforming Matrix - Iteration  8 of  128\n",
      "Transforming Matrix - Iteration  9 of  128\n",
      "Transforming Matrix - Iteration  10 of  128\n",
      "Transforming Matrix - Iteration  11 of  128\n",
      "Transforming Matrix - Iteration  12 of  128\n",
      "Transforming Matrix - Iteration  13 of  128\n",
      "Transforming Matrix - Iteration  14 of  128\n",
      "Transforming Matrix - Iteration  15 of  128\n",
      "Transforming Matrix - Iteration  16 of  128\n",
      "Transforming Matrix - Iteration  17 of  128\n",
      "Transforming Matrix - Iteration  18 of  128\n",
      "Transforming Matrix - Iteration  19 of  128\n",
      "Transforming Matrix - Iteration  20 of  128\n",
      "Transforming Matrix - Iteration  21 of  128\n",
      "Transforming Matrix - Iteration  22 of  128\n",
      "Transforming Matrix - Iteration  23 of  128\n",
      "Transforming Matrix - Iteration  24 of  128\n",
      "Transforming Matrix - Iteration  25 of  128\n",
      "Transforming Matrix - Iteration  26 of  128\n",
      "Transforming Matrix - Iteration  27 of  128\n",
      "Transforming Matrix - Iteration  28 of  128\n",
      "Transforming Matrix - Iteration  29 of  128\n",
      "Transforming Matrix - Iteration  30 of  128\n",
      "Transforming Matrix - Iteration  31 of  128\n",
      "Transforming Matrix - Iteration  32 of  128\n",
      "Transforming Matrix - Iteration  33 of  128\n",
      "Transforming Matrix - Iteration  34 of  128\n",
      "Transforming Matrix - Iteration  35 of  128\n",
      "Transforming Matrix - Iteration  36 of  128\n",
      "Transforming Matrix - Iteration  37 of  128\n",
      "Transforming Matrix - Iteration  38 of  128\n",
      "Transforming Matrix - Iteration  39 of  128\n",
      "Transforming Matrix - Iteration  40 of  128\n",
      "Transforming Matrix - Iteration  41 of  128\n",
      "Transforming Matrix - Iteration  42 of  128\n",
      "Transforming Matrix - Iteration  43 of  128\n",
      "Transforming Matrix - Iteration  44 of  128\n",
      "Transforming Matrix - Iteration  45 of  128\n",
      "Transforming Matrix - Iteration  46 of  128\n",
      "Transforming Matrix - Iteration  47 of  128\n",
      "Transforming Matrix - Iteration  48 of  128\n",
      "Transforming Matrix - Iteration  49 of  128\n",
      "Transforming Matrix - Iteration  50 of  128\n",
      "Transforming Matrix - Iteration  51 of  128\n",
      "Transforming Matrix - Iteration  52 of  128\n",
      "Transforming Matrix - Iteration  53 of  128\n",
      "Transforming Matrix - Iteration  54 of  128\n",
      "Transforming Matrix - Iteration  55 of  128\n",
      "Transforming Matrix - Iteration  56 of  128\n",
      "Transforming Matrix - Iteration  57 of  128\n",
      "Transforming Matrix - Iteration  58 of  128\n",
      "Transforming Matrix - Iteration  59 of  128\n",
      "Transforming Matrix - Iteration  60 of  128\n",
      "Transforming Matrix - Iteration  61 of  128\n",
      "Transforming Matrix - Iteration  62 of  128\n",
      "Transforming Matrix - Iteration  63 of  128\n",
      "Transforming Matrix - Iteration  64 of  128\n",
      "Transforming Matrix - Iteration  65 of  128\n",
      "Transforming Matrix - Iteration  66 of  128\n",
      "Transforming Matrix - Iteration  67 of  128\n",
      "Transforming Matrix - Iteration  68 of  128\n",
      "Transforming Matrix - Iteration  69 of  128\n",
      "Transforming Matrix - Iteration  70 of  128\n",
      "Transforming Matrix - Iteration  71 of  128\n",
      "Transforming Matrix - Iteration  72 of  128\n",
      "Transforming Matrix - Iteration  73 of  128\n",
      "Transforming Matrix - Iteration  74 of  128\n",
      "Transforming Matrix - Iteration  75 of  128\n",
      "Transforming Matrix - Iteration  76 of  128\n",
      "Transforming Matrix - Iteration  77 of  128\n",
      "Transforming Matrix - Iteration  78 of  128\n",
      "Transforming Matrix - Iteration  79 of  128\n",
      "Transforming Matrix - Iteration  80 of  128\n",
      "Transforming Matrix - Iteration  81 of  128\n",
      "Transforming Matrix - Iteration  82 of  128\n",
      "Transforming Matrix - Iteration  83 of  128\n",
      "Transforming Matrix - Iteration  84 of  128\n",
      "Transforming Matrix - Iteration  85 of  128\n",
      "Transforming Matrix - Iteration  86 of  128\n",
      "Transforming Matrix - Iteration  87 of  128\n",
      "Transforming Matrix - Iteration  88 of  128\n",
      "Transforming Matrix - Iteration  89 of  128\n",
      "Transforming Matrix - Iteration  90 of  128\n",
      "Transforming Matrix - Iteration  91 of  128\n",
      "Transforming Matrix - Iteration  92 of  128\n",
      "Transforming Matrix - Iteration  93 of  128\n",
      "Transforming Matrix - Iteration  94 of  128\n",
      "Transforming Matrix - Iteration  95 of  128\n",
      "Transforming Matrix - Iteration  96 of  128\n",
      "Transforming Matrix - Iteration  97 of  128\n",
      "Transforming Matrix - Iteration  98 of  128\n",
      "Transforming Matrix - Iteration  99 of  128\n",
      "Transforming Matrix - Iteration  100 of  128\n",
      "Transforming Matrix - Iteration  101 of  128\n",
      "Transforming Matrix - Iteration  102 of  128\n",
      "Transforming Matrix - Iteration  103 of  128\n",
      "Transforming Matrix - Iteration  104 of  128\n",
      "Transforming Matrix - Iteration  105 of  128\n",
      "Transforming Matrix - Iteration  106 of  128\n",
      "Transforming Matrix - Iteration  107 of  128\n",
      "Transforming Matrix - Iteration  108 of  128\n",
      "Transforming Matrix - Iteration  109 of  128\n",
      "Transforming Matrix - Iteration  110 of  128\n",
      "Transforming Matrix - Iteration  111 of  128\n",
      "Transforming Matrix - Iteration  112 of  128\n",
      "Transforming Matrix - Iteration  113 of  128\n",
      "Transforming Matrix - Iteration  114 of  128\n",
      "Transforming Matrix - Iteration  115 of  128\n",
      "Transforming Matrix - Iteration  116 of  128\n",
      "Transforming Matrix - Iteration  117 of  128\n",
      "Transforming Matrix - Iteration  118 of  128\n",
      "Transforming Matrix - Iteration  119 of  128\n",
      "Transforming Matrix - Iteration  120 of  128\n",
      "Transforming Matrix - Iteration  121 of  128\n",
      "Transforming Matrix - Iteration  122 of  128\n",
      "Transforming Matrix - Iteration  123 of  128\n",
      "Transforming Matrix - Iteration  124 of  128\n",
      "Transforming Matrix - Iteration  125 of  128\n",
      "Transforming Matrix - Iteration  126 of  128\n",
      "Transforming Matrix - Iteration  127 of  128\n",
      "Transforming Matrix - Iteration  128 of  128\n"
     ]
    }
   ],
   "source": [
    "#Estimate xT matrices (for time-remaining-in-period between 15 and 20 minutes)\n",
    "nxt, oxt, xt = nxT.estimate_nxT_matrix(data,t=1,verbose=True)"
   ]
  },
  {
   "cell_type": "code",
   "execution_count": 7,
   "id": "protected-broadcasting",
   "metadata": {},
   "outputs": [
    {
     "data": {
      "text/plain": [
       "<AxesSubplot:>"
      ]
     },
     "execution_count": 7,
     "metadata": {},
     "output_type": "execute_result"
    },
    {
     "data": {
      "image/png": "[encoded data removed]",
      "text/plain": [
       "<Figure size 432x288 with 2 Axes>"
      ]
     },
     "metadata": {
      "needs_background": "light"
     },
     "output_type": "display_data"
    }
   ],
   "source": [
    "#observe matrices (time = 1)\n",
    "sns.heatmap(xt)"
   ]
  },
  {
   "cell_type": "code",
   "execution_count": 8,
   "id": "killing-bacteria",
   "metadata": {},
   "outputs": [
    {
     "data": {
      "text/plain": [
       "<AxesSubplot:>"
      ]
     },
     "execution_count": 8,
     "metadata": {},
     "output_type": "execute_result"
    },
    {
     "data": {
      "image/png": "[encoded data removed]",
      "text/plain": [
       "<Figure size 432x288 with 2 Axes>"
      ]
     },
     "metadata": {
      "needs_background": "light"
     },
     "output_type": "display_data"
    }
   ],
   "source": [
    "sns.heatmap(oxt)"
   ]
  },
  {
   "cell_type": "code",
   "execution_count": 9,
   "id": "intellectual-probe",
   "metadata": {},
   "outputs": [
    {
     "data": {
      "text/plain": [
       "<AxesSubplot:>"
      ]
     },
     "execution_count": 9,
     "metadata": {},
     "output_type": "execute_result"
    },
    {
     "data": {
      "image/png": "[encoded data removed]",
      "text/plain": [
       "<Figure size 432x288 with 2 Axes>"
      ]
     },
     "metadata": {
      "needs_background": "light"
     },
     "output_type": "display_data"
    }
   ],
   "source": [
    "sns.heatmap(nxt)"
   ]
  }
 ],
 "metadata": {
  "kernelspec": {
   "display_name": "Python 3",
   "language": "python",
   "name": "python3"
  },
  "language_info": {
   "codemirror_mode": {
    "name": "ipython",
    "version": 3
   },
   "file_extension": ".py",
   "mimetype": "text/x-python",
   "name": "python",
   "nbconvert_exporter": "python",
   "pygments_lexer": "ipython3",
   "version": "3.9.2"
  }
 },
 "nbformat": 4,
 "nbformat_minor": 5
}
