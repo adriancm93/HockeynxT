{
 "cells": [
  {
   "cell_type": "code",
   "execution_count": 1,
   "id": "reasonable-yorkshire",
   "metadata": {},
   "outputs": [
    {
     "name": "stdout",
     "output_type": "stream",
     "text": [
      "Time remaining in period, bin:  1\n",
      "# iterations:  17\n",
      "Time remaining in period, bin:  2\n",
      "# iterations:  17\n",
      "Time remaining in period, bin:  3\n",
      "# iterations:  17\n",
      "Time remaining in period, bin:  4\n",
      "# iterations:  17\n"
     ]
    }
   ],
   "source": [
    "import sys\n",
    "module_path = '../HockeynxT/'\n",
    "if module_path not in sys.path:\n",
    "    sys.path.append(module_path)\n",
    "import xTHockey as xT\n",
    "import pandas as pd\n",
    "import seaborn as sns\n",
    "\n",
    "data=pd.read_csv('data.csv')\n",
    "data=data[data['league'] == 'scouting']\n",
    "results=xT.return_xT_values(data) "
   ]
  },
  {
   "cell_type": "code",
   "execution_count": 9,
   "id": "induced-milan",
   "metadata": {},
   "outputs": [],
   "source": [
    "#uncomment to print results\n",
    "#results"
   ]
  },
  {
   "cell_type": "code",
   "execution_count": 3,
   "id": "hundred-presence",
   "metadata": {
    "scrolled": true
   },
   "outputs": [
    {
     "name": "stdout",
     "output_type": "stream",
     "text": [
      "Time remaining in period, bin:  1\n",
      "# iterations:  17\n"
     ]
    },
    {
     "data": {
      "text/plain": [
       "<AxesSubplot:>"
      ]
     },
     "execution_count": 3,
     "metadata": {},
     "output_type": "execute_result"
    },
    {
     "data": {
      "image/png": "[encoded data removed]",
      "text/plain": [
       "<Figure size 432x288 with 2 Axes>"
      ]
     },
     "metadata": {
      "needs_background": "light"
     },
     "output_type": "display_data"
    }
   ],
   "source": [
    "# xT matrix time t=1 vs t=4 (see difference in upper values 0.12 vs 0.10)\n",
    "xtmodel = xT.ExpectedThreat(l=16,w=8)\n",
    "xtmodel.fit(data,t=1)\n",
    "actions=data[data['end_x'].notna()]\n",
    "matrix=xtmodel.xT\n",
    "sns.heatmap(matrix)"
   ]
  },
  {
   "cell_type": "code",
   "execution_count": 5,
   "id": "representative-traffic",
   "metadata": {},
   "outputs": [
    {
     "name": "stdout",
     "output_type": "stream",
     "text": [
      "Time remaining in period, bin:  4\n",
      "# iterations:  17\n"
     ]
    },
    {
     "data": {
      "text/plain": [
       "<AxesSubplot:>"
      ]
     },
     "execution_count": 5,
     "metadata": {},
     "output_type": "execute_result"
    },
    {
     "data": {
      "image/png": "[encoded data removed]",
      "text/plain": [
       "<Figure size 432x288 with 2 Axes>"
      ]
     },
     "metadata": {
      "needs_background": "light"
     },
     "output_type": "display_data"
    }
   ],
   "source": [
    "xtmodel = xT.ExpectedThreat(l=16,w=8)\n",
    "xtmodel.fit(data,t=4)\n",
    "actions=data[data['end_x'].notna()]\n",
    "matrix=xtmodel.xT\n",
    "sns.heatmap(matrix)"
   ]
  }
 ],
 "metadata": {
  "kernelspec": {
   "display_name": "Python 3",
   "language": "python",
   "name": "python3"
  },
  "language_info": {
   "codemirror_mode": {
    "name": "ipython",
    "version": 3
   },
   "file_extension": ".py",
   "mimetype": "text/x-python",
   "name": "python",
   "nbconvert_exporter": "python",
   "pygments_lexer": "ipython3",
   "version": "3.9.2"
  }
 },
 "nbformat": 4,
 "nbformat_minor": 5
}
